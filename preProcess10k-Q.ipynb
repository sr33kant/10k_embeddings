{
 "cells": [
  {
   "cell_type": "code",
   "execution_count": 6,
   "metadata": {
    "collapsed": true
   },
   "outputs": [],
   "source": [
    "import os\n",
    "import shutil\n",
    "import datetime"
   ]
  },
  {
   "cell_type": "code",
   "execution_count": 29,
   "metadata": {
    "collapsed": false,
    "scrolled": true
   },
   "outputs": [],
   "source": [
    "for root, dirs, files in os.walk('C:\\\\Users\\\\sreek\\\\PycharmProjects\\\\SEC-Edgar-Data'): \n",
    "   for file in files:\n",
    "      now = str(datetime.datetime.now())[-6:]  \n",
    "      path_file = os.path.join(root,file) \n",
    "      shutil.copy2(path_file,'C:\\\\Users\\\\sreek\\\\PycharmProjects\\\\SEC-Edgar-Data\\\\all_files\\\\'+now+'.txt') "
   ]
  },
  {
   "cell_type": "code",
   "execution_count": 32,
   "metadata": {
    "collapsed": true
   },
   "outputs": [],
   "source": [
    "import glob\n",
    "with open('C:\\\\Users\\\\sreek\\\\PycharmProjects\\\\SEC-Edgar-Data\\\\merged_file.txt','wb') as wfd:\n",
    "    for i in glob.glob(r'C:\\\\Users\\\\sreek\\\\PycharmProjects\\\\SEC-Edgar-Data\\\\all_files\\\\*.txt'):\n",
    "        with open(i,'rb') as fd:\n",
    "            shutil.copyfileobj(fd, wfd, 1024*1024*10)"
   ]
  },
  {
   "cell_type": "code",
   "execution_count": null,
   "metadata": {
    "collapsed": true
   },
   "outputs": [],
   "source": []
  }
 ],
 "metadata": {
  "kernelspec": {
   "display_name": "Python 3",
   "language": "python",
   "name": "python3"
  },
  "language_info": {
   "codemirror_mode": {
    "name": "ipython",
    "version": 3
   },
   "file_extension": ".py",
   "mimetype": "text/x-python",
   "name": "python",
   "nbconvert_exporter": "python",
   "pygments_lexer": "ipython3",
   "version": "3.5.1"
  }
 },
 "nbformat": 4,
 "nbformat_minor": 2
}
